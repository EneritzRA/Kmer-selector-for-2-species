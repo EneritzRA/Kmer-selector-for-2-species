{
 "cells": [
  {
   "cell_type": "markdown",
   "id": "a379fd1a",
   "metadata": {},
   "source": [
    "# Importar los paquetes necesarios para trabajar"
   ]
  },
  {
   "cell_type": "code",
   "execution_count": null,
   "id": "28b6b351",
   "metadata": {},
   "outputs": [],
   "source": [
    "# Pandas nos permitirá exportar los resultados, \n",
    "# Bio será el que nos permitirá leer las secuencias fasta,\n",
    "# Os nos permitirá crear carpetas y renombrar archivos\n",
    "# regex nos permite buscar secuencias que tengas mismatches\n",
    "# shutil nos sirve para mover archivos de una carpeta a otra\n",
    "\n",
    "import pandas as pd \n",
    "from pandas import DataFrame\n",
    "\n",
    "import Bio\n",
    "from Bio import SeqIO\n",
    "from Bio.SeqUtils import GC\n",
    "\n",
    "import os\n",
    "\n",
    "import regex\n",
    "\n",
    "import shutil\n"
   ]
  },
  {
   "cell_type": "markdown",
   "id": "f104e175",
   "metadata": {},
   "source": [
    "# Crear el espacio de trabajo en el que guardaremos nuestros resultados"
   ]
  },
  {
   "cell_type": "raw",
   "id": "9ae672b4",
   "metadata": {},
   "source": [
    "Crear las carpetas para ordenar los datos en los pasos posteriores. "
   ]
  },
  {
   "cell_type": "code",
   "execution_count": null,
   "id": "a5dd15ca",
   "metadata": {},
   "outputs": [],
   "source": [
    "#modificaremos el path cada vez que vayamos a utilizarlo\n",
    "path = \"C:/Users/nerit/Desktop/mouse and rat genes/\"\n",
    "os.chdir(path)\n",
    "\n",
    "folder = \"kmers\" #aquí se guardarán todos los kmers obtenidos con la primera función, sin filtrar de ninguna forma\n",
    "resultsmouse = \"Mouse\"\n",
    "resultsrat = \"Rat\"\n",
    "\n",
    "os.makedirs(folder)\n",
    "os.makedirs(resultsmouse)\n",
    "os.makedirs(resultsrat)\n",
    "\n",
    "path2 = \"C:/Users/nerit/Desktop/mouse and rat genes/kmers\"\n",
    "path3 = \"C:/Users/nerit/Desktop/mouse and rat genes/Mouse\"\n",
    "path4 = \"C:/Users/nerit/Desktop/mouse and rat genes/Rat\"\n",
    "\n",
    "kmers = \"kmers\"\n",
    "filteredkmers = \"kmers_filtered\" #guardar los kmers tras filtrar para que sean compatibles en todas las especies\n",
    "fusedkmers = \"kmers_fused\" #guardar los kmers filtrados sabiendo su posición en el mRNA\n",
    "\n",
    "os.chdir(path3)\n",
    "os.makedirs(kmers)\n",
    "os.makedirs(filteredkmers)\n",
    "os.makedirs(fusedkmers)\n",
    "\n",
    "os.chdir(path4)\n",
    "os.makedirs(kmers)\n",
    "os.makedirs(filteredkmers)\n",
    "os.makedirs(fusedkmers)"
   ]
  },
  {
   "cell_type": "markdown",
   "id": "beb8959c",
   "metadata": {},
   "source": [
    "# Definición de las funciones"
   ]
  },
  {
   "cell_type": "markdown",
   "id": "5ae16558",
   "metadata": {},
   "source": [
    "Definiremos una primera función que busque los kmers posibles para cada secuencia. Además, los filtrará. "
   ]
  },
  {
   "cell_type": "code",
   "execution_count": null,
   "id": "e5c122d5",
   "metadata": {},
   "outputs": [],
   "source": [
    "# function to do a sliding window and extracts all the 30-mers from the fasta sequence\n",
    "\n",
    "def findtargets (mrna):\n",
    "    targets = pd.DataFrame(columns=['Gene', 'Position', 'Sequence'])\n",
    "    end = len(mrna)-29\n",
    "    #print (end)\n",
    "    for i in range (0, end):\n",
    "        #print (mrna[i:i+30])\n",
    "    #The next line checks if position 16 (remember python is 0-indexed) is a C or G\n",
    "        if mrna.seq[i+15] == 'C' or mrna.seq[i+15] == 'G' :\n",
    "            #The next line filters out any probe with GC content <= 50 and >=65\n",
    "            if GC(mrna.seq[i:i+30]) > 50:\n",
    "                if GC(mrna.seq[i:i+30]) < 65:\n",
    "                    if mrna.seq[i:i+30].count(\"AAA\")==0 and mrna.seq[i:i+30].count(\"TTT\")==0 and mrna.seq[i:i+30].count(\"GGG\")==0 and mrna.seq[i:i+30].count(\"CCC\")==0:\n",
    "                    #Here I create a dataframe with all the suitable targets, where column 1 is the start position and column 2 is the actual sequence.\n",
    "                        #print (GC(mrna.seq[i:i+30]))\n",
    "                        targets = targets.append({'Gene': mrna.id, 'Position': i, 'Sequence':mrna.seq[i:i+30]}, ignore_index=True)  \n",
    "                        targets.to_csv(r'C:/Users/nerit/Desktop/mouse and rat genes/kmers/kmers_%s.csv' %mrna.description)\n",
    "\n",
    "    return [targets]  "
   ]
  },
  {
   "cell_type": "markdown",
   "id": "cab7117e",
   "metadata": {},
   "source": [
    "La segunda función sirve para renombrar los archivos .csv para que tengan sólo el nombre \"común\" del gen. Esta función solo sirve para poner el nombre que se encuentre entre paréntesis, así que asegurarse de que los archivos iniciales tengan el formato adecuado. El archivo que contendrá los kmers estará nombrado por toda la descripción del gen (así está especificado en la función findtargets), dentro de la cual el nombre \"común\" aparecerá así: (Adarb2). Será ese con el que nos quedemos. Por si acaso, es muy importante revisar los nombres de todos los archivos antes, para comprobar que no haya ninguna otra palabra entre paréntesis. "
   ]
  },
  {
   "cell_type": "code",
   "execution_count": null,
   "id": "bb313798",
   "metadata": {},
   "outputs": [],
   "source": [
    "def change_name (gene):\n",
    "    #primero el bucle, que permite leer cada archivo en nuestro directorio\n",
    "    for f in os.listdir():\n",
    "        #\"rompe\" el nombre, poniendo el texto (f_name) por un lado y la extensión del documento (f_ext) por otro\n",
    "        f_name, f_ext = os.path.splitext(f)\n",
    "        #print(f_name)\n",
    "        \n",
    "        #\"rompe\" el nombre en una lista: cada palabra/elemento del título será un item independiente\n",
    "        f_gene = f_name.split()\n",
    "        \n",
    "        #crea un bucle para leer cada item de la lista correspondiente al nombre\n",
    "        for element in f_gene:\n",
    "            \n",
    "            #crear la condición que hace que nos centremos sólo en el ítem que tiene paréntesis\n",
    "            if element [0] == \"(\":\n",
    "                #print(element)\n",
    "                \n",
    "                #una vez centrado en el item del \"nombre común\", lo modifica para quitar los paréntesis (con la función strip)\n",
    "                #y para quitarle el espacio.\n",
    "                element = element.strip()[1:]\n",
    "                element = element.strip()[:-1]\n",
    "                element = element.strip()[:-1]\n",
    "                #print(element)\n",
    "                \n",
    "                #generar nuevo nombre para el archivo, poniendo seguidos el item del nombre común sin paréntesis y la extensión\n",
    "                #renombrar\n",
    "                new_name = '{}{}'.format(element, f_ext)\n",
    "                #print(new_name)\n",
    "                os.rename(f, new_name)"
   ]
  },
  {
   "cell_type": "markdown",
   "id": "29120d34",
   "metadata": {},
   "source": [
    "# Ejecutar la función para buscar kmers"
   ]
  },
  {
   "cell_type": "markdown",
   "id": "1a7e6a79",
   "metadata": {},
   "source": [
    "Una vez tenemos todo definido, lo primero que vamos a ejecutar es la función que nos busque los kmers. Lo que hará será tomar todas las secuencias de todos los archivos y creará un excel con los resultados por archivo y secuencia. # Es muy importante que en el archivo estén las DOS secuencias (una correspondiente a una especie y otra correspondiente a la otra), porque sólo con una no funciona el script."
   ]
  },
  {
   "cell_type": "code",
   "execution_count": null,
   "id": "7977d841",
   "metadata": {},
   "outputs": [],
   "source": [
    "#definir el path en el que están los archivos con las secuencias\n",
    "filepath = \"C:/Users/nerit/Desktop/mouse and rat genes/sequences/\"\n",
    "files = os.listdir(filepath)\n",
    "#print (files)\n",
    "\n",
    "#bucle para que lea y analice cada archivo de forma individual\n",
    "for gene in files:\n",
    "    \n",
    "    #esta función nos ayuda a indicarle a python que las secuencias están en formato FASTA, para que las trate de esa manera\n",
    "    seq_files = SeqIO.parse(filepath+gene, \"fasta\")\n",
    "    print(seq_files)\n",
    "    \n",
    "    #bucle para que lea cada una de las dos secuencias de forma individual. \n",
    "    for seq in seq_files:\n",
    "        #seqcount=seqcount+1\n",
    "        #print ('secuencias procesadas')\n",
    "        #print(seqcount)\n",
    "        \n",
    "        #sirve para luego asignar un nombre a cada una de las dos secuencias\n",
    "        #básicamente pone un espacio en blanco y luego si pones 0 (1º sec) o 1 (2º sec) se le asigna el nombre que le des\n",
    "        #para asignar se utiliza la función append\n",
    "        sequences = []\n",
    "        #print(seq)\n",
    "        sequences.append(seq)\n",
    "        mus = sequences[0]\n",
    "        #ratus = sequences[-1]\n",
    "        #print (mus.seq)\n",
    "        #print (ratus.seq)\n",
    "        \n",
    "        #aplicamos la función en nuestra secuencia de interés\n",
    "        targetsall = findtargets(mus)\n",
    "        #targetsall = findtargets (ratus)"
   ]
  },
  {
   "cell_type": "markdown",
   "id": "ce97d2a6",
   "metadata": {},
   "source": [
    "Lo siguiente que haremos será ordenar todos los archivos: meteremos los kmers de una especie en una carpeta y los de la otra especie en otra carpeta."
   ]
  },
  {
   "cell_type": "code",
   "execution_count": null,
   "id": "4c0f28e2",
   "metadata": {},
   "outputs": [],
   "source": [
    "#primero especificamos el path del que partimos, el path final de la primera especie y el path final de la segunda especie.\n",
    "generalpath = \"C:/Users/nerit/Desktop/mouse and rat genes/kmers/\"\n",
    "rat_path = 'C:/Users/nerit/Desktop/mouse and rat genes/Rat/kmers/'\n",
    "mouse_path = 'C:/Users/nerit/Desktop/mouse and rat genes/Mouse/kmers/'\n",
    "\n",
    "#creamos un bucle para la primera especie.\n",
    "#primero pone como condición que cierta palabra (la especie) esté en el título del archivo\n",
    "#mueve el archivo con la especie en el nombre a la carpeta de esa especie\n",
    "#repetimos el bucle para la segunda especie\n",
    "\n",
    "for k in os.listdir(generalpath):\n",
    "    #print(k)\n",
    "    if \"Mus\" in k:\n",
    "        mouse = k\n",
    "        #print(mouse)\n",
    "        shutil.move(generalpath + k, mouse_path)\n",
    "\n",
    "for k in os.listdir(generalpath):        \n",
    "    if \"Rattus\" in k:\n",
    "        rat = k\n",
    "        #print(rat)\n",
    "        shutil.move(generalpath + k, rat_path) "
   ]
  },
  {
   "cell_type": "markdown",
   "id": "9f1ca07a",
   "metadata": {},
   "source": [
    "Antes de continuar, revisaremos manualmente que no haya casos raros: podría suceder que para un gen no haya posibilidad de diseñar sondas que cumplan todos los requisitos, o que tengamos varias isoformas de un gen para una especie. En esos casos lo que haremos será , manualmente, sacar las excepciones de las carpetas (tanto en mouse cómo en rat) y meterlos en una carpeta nueva (strange genes). "
   ]
  },
  {
   "cell_type": "markdown",
   "id": "7d070181",
   "metadata": {},
   "source": [
    "## Renombrar los archivos"
   ]
  },
  {
   "cell_type": "markdown",
   "id": "c1a7ed6d",
   "metadata": {},
   "source": [
    "Este paso es muy importante, para que los archivos tengan el nombre \"común\" del gen en ambas especies. De esta manera podremos trabajar posteriormente con ellos a la vez. Para no tener problemas luego a la hora de hacer todos los cambios es importante que en el nombre no haya ninguna \"/\" ni ningún paréntesis mas que el que rodea el nombre común del gen."
   ]
  },
  {
   "cell_type": "code",
   "execution_count": null,
   "id": "db3f90c3",
   "metadata": {},
   "outputs": [],
   "source": [
    "#lo primero que haremos será indicar el path de cada especie de forma separada.\n",
    "#el path será una lista de archivos (usando la función os.chdir)\n",
    "ratpath = os.chdir('C:/Users/nerit/Desktop/mouse and rat genes/Rat/kmers')\n",
    "mousepath = os.chdir ('C:/Users/nerit/Desktop/mouse and rat genes/Mouse/kmers')\n",
    "\n",
    "#aplicamos en cada especie la función para cambiar el nombre que hemos definido anteriormente\n",
    "rename_rat = change_name(ratpath)\n",
    "rename_mouse = change_name(mousepath)"
   ]
  },
  {
   "cell_type": "markdown",
   "id": "a921c890",
   "metadata": {},
   "source": [
    "## Búsqueda de kmers comunes en ambas especies"
   ]
  },
  {
   "cell_type": "markdown",
   "id": "cce6792e",
   "metadata": {},
   "source": [
    "El siguiente paso es hacer una búsqueda de aquellos kmers que son comunes en ambas especies, porque esos serán los que utilicemos. El truco de este paso es que no hace falta que los kmers sean idénticos: sabemos que un kmer con hasta 5 mismatches es capaz de hibridar con el RNA. Así pues, decidimos que la manera de buscar los kmers comunes en dos especies iba a ser la siguiente: haríamos una comparación de los kmers posibles de la especie en la que tenemos mayor interés con los kmers de la segunda, añadiéndole a esta hasta 5 mismatches. Después, a la especie de interés le asignaremos los kmers \"originales\" y a la segunda especie los kmers comunes a esos \"originales\" permitiendo que tengan hasta 5 mismatches."
   ]
  },
  {
   "cell_type": "code",
   "execution_count": null,
   "id": "10341265",
   "metadata": {},
   "outputs": [],
   "source": [
    "#comenzamos definiendo el path en el que se encuentran los kmers \"originales\" de cada especie\n",
    "rat_path = 'C:/Users/nerit/Desktop/mouse and rat genes/Rat/kmers/'\n",
    "mouse_path = 'C:/Users/nerit/Desktop/mouse and rat genes/Mouse/kmers/'\n",
    "\n",
    "#definimos un bucle que nos permita leer los archivos que contienen los kmers\n",
    "for f in os.listdir(rat_path):\n",
    "    #print(f)\n",
    "    \n",
    "    #le indicamos al bucle que los archivos que lee son CSV\n",
    "    #uno será el que contenga los kmers de la especie 1\n",
    "    #otro contendrá los kmers de la especie 2\n",
    "    df1 = pd.read_csv(rat_path+f)\n",
    "    #print(df1)\n",
    "    df2 = pd.read_csv(mouse_path+f)\n",
    "    #print (df2)\n",
    "    \n",
    "    #asignamos un espacio vacío a cada especie por cada CSV añadido\n",
    "    #cuando encuentre kmers coincidentes se asignarán a ese espacio vacío\n",
    "    hitsrat=[]\n",
    "    hitsmouse=[]\n",
    "    \n",
    "    #dentro del bucle inicial le indicamos que vaya analizando una a una las secuencias de los kmers (en la columna \"sequence\")\n",
    "    #cogerá como referencia los kmers de la especie de mayor interés\n",
    "    for seqmouse in df2['Sequence']:\n",
    "        #print (seqmouse)\n",
    "        \n",
    "        #creamos un bucle interno, que comparará cada kmer de la especie de interés con los kmers de la segunda especie\n",
    "        #la función regex.findall contará como hit positivo todos los kmers que coincidan con el de la especie de interés\n",
    "        #al especificar s<=5 le decimos que aceptamos hasta 5 mismatches en el hit\n",
    "        for seqrat in df1['Sequence']:\n",
    "            #print (seqrat)\n",
    "            hit = regex.findall(r\"(\"+seqmouse+\"){s<=5}\",seqrat)\n",
    "            \n",
    "            #en esta condición indicamos que si hay un hit, añadamos a la especie de interés el kmer \"original\"\n",
    "            #a la secundaria le añadiremos el hit coincidente, tenga mismatches o no\n",
    "            #para eso usamos la función .append asociada al espacio vacío que habíamos creado previamente para cada especie\n",
    "            if hit:\n",
    "                #print (f)\n",
    "                #print (seqrat)\n",
    "                #print (hit)\n",
    "                hitsrat.append(hit)\n",
    "                hitsmouse.append(seqmouse)\n",
    "    \n",
    "    #ordenamos todos los hits obtenidos en un dataframe (uno por especie) \n",
    "    mouse_filtered = pd.DataFrame(data=hitsmouse, columns=['Sequence'])\n",
    "    rat_filtered = pd.DataFrame(data=hitsrat, columns=['Sequence'])\n",
    "    #print (mouse_filtered)\n",
    "    \n",
    "    #convertimos el dataframe en csv\n",
    "    #simplemente tendremos que añadir el path donde queremos guardarlo, poniendo {f} para que añada el nombre \"común\" del gen\n",
    "    outputname_rat = f'C:/Users/nerit/Desktop/mouse and rat genes/Rat/kmers_filtered/{f}'\n",
    "    rat_filtered.to_csv(outputname_rat)\n",
    "    outputname_mouse = f'C:/Users/nerit/Desktop/mouse and rat genes/Mouse/kmers_filtered/{f}'\n",
    "    mouse_filtered.to_csv(outputname_mouse)"
   ]
  },
  {
   "cell_type": "markdown",
   "id": "17eb5e5e",
   "metadata": {},
   "source": [
    "## Fusión de CSVs"
   ]
  },
  {
   "cell_type": "markdown",
   "id": "20963e55",
   "metadata": {},
   "source": [
    "En el CSV obtenido sólo tenemos las secuencias de los kmers, sin su posición. Sin embargo, para hacer la selección de los kmers necesitamos esa posición en el mRNA. Para eso haremos una fusión entre el CSV que contiene los kmers \"originales\" y el CSV que hemos conseguido con los kmers \"filtrados\" que son comunes a las dos especies. "
   ]
  },
  {
   "cell_type": "code",
   "execution_count": null,
   "id": "e9256ebd",
   "metadata": {},
   "outputs": [],
   "source": [
    "#comenzamos indicando el path de los kmers \"originales\" (kmer) y \"filtrados\" (filtered) para ambas especies\n",
    "kmer_mouse = 'C:/Users/nerit/Desktop/mouse and rat genes/Mouse/kmers/'\n",
    "filteredkmer_mouse = 'C:/Users/nerit/Desktop/mouse and rat genes/Mouse/kmers_filtered/'\n",
    "kmer_rat = 'C:/Users/nerit/Desktop/mouse and rat genes/Rat/kmers/'\n",
    "filteredkmer_rat ='C:/Users/nerit/Desktop/mouse and rat genes/Rat/kmers_filtered/'\n",
    "\n",
    "#lo haremos para cada especie por separado:\n",
    "#creamos un bucle que lea los archivos de una especie de uno en uno\n",
    "    #indicamos que vamos a trabajar con dos dataframes (función \"pd.read_csv\")\n",
    "        #el primero es el que contiene los kmers \"originales\"\n",
    "        #el segundo es el que contiene los kmers \"filtrados\"\n",
    "    #usamos la función \"pd.merge\" para unir dos csv manteniendo sólo aquello común a ambos\n",
    "        #indicaremos los dos dataframes que queremos fusionar\n",
    "        #on -> indicamos qué columna es en la que queremos buscar la coincidencia\n",
    "    #creamos el nuevo csv que contendrá los kmers ya filtrados con su posición en el mRNA\n",
    "\n",
    "for f in os.listdir(kmer_mouse):\n",
    "    #print(f)\n",
    "    df1 = pd.read_csv(kmer_mouse+f)\n",
    "    #print(df1)\n",
    "    df2 = pd.read_csv(filteredkmer_mouse+f)\n",
    "    #print (df2)\n",
    "    mergedStuff = pd.merge(df1, df2, on=['Sequence'], how='inner')\n",
    "    outputname_mouse = f'C:/Users/nerit/Desktop/mouse and rat genes/Mouse/kmers_fused/m{f}'\n",
    "    mergedStuff.to_csv(outputname_mouse)\n",
    "    \n",
    "for f in os.listdir(kmer_rat):\n",
    "    #print(f)\n",
    "    df1 = pd.read_csv(kmer_rat+f)\n",
    "    #print(df1)\n",
    "    df2 = pd.read_csv(filteredkmer_rat+f)\n",
    "    #print (df2)\n",
    "    mergedStuff = pd.merge(df1, df2, on=['Sequence'], how='inner')\n",
    "    outputname_rat = f'C:/Users/nerit/Desktop/mouse and rat genes/Rat/kmers_fused/r{f}'\n",
    "    mergedStuff.to_csv(outputname_rat)\n"
   ]
  }
 ],
 "metadata": {
  "kernelspec": {
   "display_name": "Python 3",
   "language": "python",
   "name": "python3"
  },
  "language_info": {
   "codemirror_mode": {
    "name": "ipython",
    "version": 3
   },
   "file_extension": ".py",
   "mimetype": "text/x-python",
   "name": "python",
   "nbconvert_exporter": "python",
   "pygments_lexer": "ipython3",
   "version": "3.8.8"
  }
 },
 "nbformat": 4,
 "nbformat_minor": 5
}
